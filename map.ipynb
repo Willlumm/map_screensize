{
 "cells": [
  {
   "cell_type": "code",
   "execution_count": null,
   "metadata": {},
   "outputs": [],
   "source": [
    "import pandas as pd\n",
    "\n",
    "wk39 = pd.read_csv(\"fywk39.csv\")\n",
    "wk39"
   ]
  },
  {
   "cell_type": "code",
   "execution_count": null,
   "metadata": {},
   "outputs": [],
   "source": [
    "wk39[\"Screen Size Numeric\"].value_counts()"
   ]
  },
  {
   "cell_type": "code",
   "execution_count": null,
   "metadata": {},
   "outputs": [],
   "source": [
    "import numpy as np\n",
    "\n",
    "wk39_pivot = wk39.pivot_table(index=[\"OS Ecosystem\", \"Series\", \"Sub Family\", \"Model Description\", \"Storage Capacity\", \"CPU Group\", \"CPU Ram\", \"PCHeight(mm)\"], values=\"Screen Size Numeric\", aggfunc=[lambda x: len(np.unique(x)), lambda x: np.unique(x)[0]])\n",
    "wk39_pivot.columns = [\"Unique\", \"Screen Size Numeric\"]\n",
    "wk39_pivot"
   ]
  },
  {
   "cell_type": "code",
   "execution_count": null,
   "metadata": {},
   "outputs": [],
   "source": [
    "wk39_pivot[\"Screen Size Numeric\"].value_counts()"
   ]
  },
  {
   "cell_type": "code",
   "execution_count": null,
   "metadata": {},
   "outputs": [],
   "source": [
    "wk39_pivot = wk39_pivot[wk39_pivot[\"Unique\"] == 1]\n",
    "wk39_pivot"
   ]
  },
  {
   "cell_type": "code",
   "execution_count": null,
   "metadata": {},
   "outputs": [],
   "source": [
    "wk41 = pd.read_csv(\"fywk41.csv\")\n",
    "wk41"
   ]
  },
  {
   "cell_type": "code",
   "execution_count": null,
   "metadata": {},
   "outputs": [],
   "source": [
    "wk41[\"Screen Size Numeric\"].value_counts()"
   ]
  },
  {
   "cell_type": "code",
   "execution_count": null,
   "metadata": {},
   "outputs": [],
   "source": [
    "wk41[\"Screen Size Numeric\"].unique()"
   ]
  },
  {
   "cell_type": "code",
   "execution_count": null,
   "metadata": {},
   "outputs": [],
   "source": [
    "wk41_blanks = wk41[wk41[\"Screen Size Numeric\"].isin([\"Blank\", np.nan])]\n",
    "wk41_nonblanks = wk41[~wk41[\"Screen Size Numeric\"].isin([\"Blank\", np.nan])]\n",
    "wk41_blanks"
   ]
  },
  {
   "cell_type": "code",
   "execution_count": null,
   "metadata": {},
   "outputs": [],
   "source": [
    "wk41_nonblanks"
   ]
  },
  {
   "cell_type": "code",
   "execution_count": null,
   "metadata": {},
   "outputs": [],
   "source": [
    "wk41_mapped = wk41_blanks.drop(columns=[\"Screen Size Numeric\"])\n",
    "wk41_mapped = wk41_mapped.merge(right=wk39_pivot, how=\"left\", left_on=[\"OS Ecosystem\", \"Series\", \"Sub Family\", \"Model Description\", \"Storage Capacity\", \"CPU Group\", \"CPU Ram\", \"PCHeight(mm)\"], right_index=True)\n",
    "wk41_mapped"
   ]
  },
  {
   "cell_type": "code",
   "execution_count": null,
   "metadata": {},
   "outputs": [],
   "source": [
    "wk41_mapped[\"Screen Size Numeric\"].value_counts()"
   ]
  },
  {
   "cell_type": "code",
   "execution_count": null,
   "metadata": {},
   "outputs": [],
   "source": [
    "wk41 = pd.concat([wk41_mapped, wk41_nonblanks])\n",
    "wk41"
   ]
  },
  {
   "cell_type": "code",
   "execution_count": null,
   "metadata": {},
   "outputs": [],
   "source": [
    "wk41[\"Screen Size Numeric\"].value_counts()"
   ]
  },
  {
   "cell_type": "code",
   "execution_count": null,
   "metadata": {},
   "outputs": [],
   "source": [
    "wk41.to_csv(\"fy41_mapped.csv\", index=False)"
   ]
  }
 ],
 "metadata": {
  "kernelspec": {
   "display_name": "Python 3",
   "language": "python",
   "name": "python3"
  },
  "language_info": {
   "codemirror_mode": {
    "name": "ipython",
    "version": 3
   },
   "file_extension": ".py",
   "mimetype": "text/x-python",
   "name": "python",
   "nbconvert_exporter": "python",
   "pygments_lexer": "ipython3",
   "version": "3.10.11"
  },
  "orig_nbformat": 4
 },
 "nbformat": 4,
 "nbformat_minor": 2
}
